{
 "cells": [
  {
   "cell_type": "code",
   "execution_count": 102,
   "metadata": {
    "collapsed": false
   },
   "outputs": [],
   "source": [
    "import numpy as np\n",
    "import pandas as pd\n",
    "from xgboost import XGBClassifier\n",
    "from sklearn.metrics import matthews_corrcoef, roc_auc_score\n",
    "from sklearn.cross_validation import cross_val_score, StratifiedKFold\n",
    "from sklearn.model_selection import train_test_split\n",
    "import matplotlib.pyplot as plt\n",
    "import seaborn as sns\n",
    "%matplotlib inline"
   ]
  },
  {
   "cell_type": "code",
   "execution_count": 159,
   "metadata": {
    "collapsed": false
   },
   "outputs": [],
   "source": [
    "######Importation des données##########\n",
    "\n",
    "all_data=pd.read_csv(\"stats_fight_mma_mapping.csv\",\n",
    "                   sep='\\t',index_col=None,header=None,engine='python').values\n",
    "\n",
    "\n",
    "\n",
    "X=pd.read_csv(\"stats_fight_mma_mapping.csv\",\n",
    "                   sep='\\t',index_col=0,header=None,usecols=[0,4,5,6,7,8,9,10,11,12,13,14,15,16,17,18,19,\n",
    "                                                            20,21,22,23,24,25,26,27,28,29],engine='python')\n",
    "\n",
    "\n",
    "y = pd.read_csv(\"stats_fight_mma_mapping.csv\", sep='\\t',header=None,engine='python',index_col=0, usecols=[0,30]).values.ravel()\n",
    "\n",
    "columns=[\"POIDS A\",\"TAILLE A\",\"ANNEE A\",\"EXPERIENCE A\",\"VICTOIRE A\",\"DEFAITE A\",\"KO A\",\n",
    "           \"SOUMISSION A\",\"STREAK A\",\"POIDS B\",\"TAILLE B\",\"ANNEE B\",\"EXPERIENCE B\",\"VICTOIRE B\",\"DEFAITE B\",\"KO B\",\n",
    "           \"SOUMISSION B\",\"STREAK B\",\"DIFF POIDS\",\"DIFF TAILLE\",\"DIFF AGE\",\"DIFF VICTOIRE\",\"DIFF DEFAITE\",\n",
    "           \"DIFF KO\",\"DIFF SOUMISSION\",\"DIFF STREAK\"]\n",
    "\n",
    "#transformation en matrice Numpy avec des indices pour retrouver les fighters ensuite\n",
    "X = np.hstack((np.transpose(np.array([np.arange(X.values.shape[0])])),X.values))\n",
    "\n",
    "X, X_test, y, y_test = train_test_split(X, y, test_size=0.33)"
   ]
  },
  {
   "cell_type": "code",
   "execution_count": 160,
   "metadata": {
    "collapsed": false
   },
   "outputs": [
    {
     "data": {
      "text/plain": [
       "XGBClassifier(base_score=0.005, colsample_bylevel=1, colsample_bytree=1,\n",
       "       gamma=0, learning_rate=0.1, max_delta_step=0, max_depth=3,\n",
       "       min_child_weight=1, missing=None, n_estimators=100, nthread=-1,\n",
       "       objective='binary:logistic', reg_alpha=0, reg_lambda=1,\n",
       "       scale_pos_weight=1, seed=0, silent=True, subsample=1)"
      ]
     },
     "execution_count": 160,
     "metadata": {},
     "output_type": "execute_result"
    }
   ],
   "source": [
    "#Utilisaton de la librairie XGBOOST et de son classifieur\n",
    "clf = XGBClassifier(base_score=0.005)\n",
    "clf.fit(X[:,1:], y)"
   ]
  },
  {
   "cell_type": "code",
   "execution_count": 161,
   "metadata": {
    "collapsed": false
   },
   "outputs": [
    {
     "name": "stdout",
     "output_type": "stream",
     "text": [
      "[ 0  2  3  4  5  6  8  9 10 11 13 14 16 17 18 19 20 21 22 23 25]\n"
     ]
    },
    {
     "data": {
      "text/plain": [
       "(21,)"
      ]
     },
     "execution_count": 161,
     "metadata": {},
     "output_type": "execute_result"
    },
    {
     "data": {
      "image/png": "[encoded data removed]",
      "text/plain": [
       "<matplotlib.figure.Figure at 0x138792fd0>"
      ]
     },
     "metadata": {},
     "output_type": "display_data"
    }
   ],
   "source": [
    "# Selection des bons features\n",
    "plt.hist(clf.feature_importances_[clf.feature_importances_>0])\n",
    "important_indices = np.where(clf.feature_importances_>0.005)[0]\n",
    "print(important_indices)\n",
    "important_indices.shape"
   ]
  },
  {
   "cell_type": "code",
   "execution_count": 162,
   "metadata": {
    "collapsed": false
   },
   "outputs": [
    {
     "data": {
      "text/plain": [
       "array(['POIDS A', 'ANNEE A', 'EXPERIENCE A', 'VICTOIRE A', 'DEFAITE A',\n",
       "       'KO A', 'STREAK A', 'POIDS B', 'TAILLE B', 'ANNEE B', 'VICTOIRE B',\n",
       "       'DEFAITE B', 'SOUMISSION B', 'STREAK B', 'DIFF POIDS',\n",
       "       'DIFF TAILLE', 'DIFF AGE', 'DIFF VICTOIRE', 'DIFF DEFAITE',\n",
       "       'DIFF KO', 'DIFF STREAK'], \n",
       "      dtype='<U15')"
      ]
     },
     "execution_count": 162,
     "metadata": {},
     "output_type": "execute_result"
    }
   ],
   "source": [
    "elements_retenu=np.array(columns)\n",
    "elements_retenu[important_indices][:]"
   ]
  },
  {
   "cell_type": "code",
   "execution_count": 163,
   "metadata": {
    "collapsed": false
   },
   "outputs": [
    {
     "name": "stdout",
     "output_type": "stream",
     "text": [
      "fold 0, ROC AUC: 0.64489\n",
      "fold 1, ROC AUC: 0.65264\n",
      "fold 2, ROC AUC: 0.63404\n",
      "0.643572624016\n"
     ]
    }
   ],
   "source": [
    "#Cross validation \n",
    "#en conservant 3 sous echantillons avec des fréquences de classes homogènes dans chacun des sous ensembles\n",
    "clf = XGBClassifier(max_depth=5, base_score=0.005)\n",
    "cv = StratifiedKFold(y, n_folds=3)\n",
    "preds = np.ones(y.shape[0])\n",
    "for i, (train, test) in enumerate(cv):\n",
    "    preds[test] = clf.fit(X[train,1:], y[train]).predict_proba(X[test,1:])[:,1]\n",
    "    print(\"fold {}, ROC AUC: {:.5f}\".format(i, roc_auc_score(y[test], preds[test])))\n",
    "print(roc_auc_score(y, preds))"
   ]
  },
  {
   "cell_type": "code",
   "execution_count": 164,
   "metadata": {
    "collapsed": false
   },
   "outputs": [
    {
     "name": "stdout",
     "output_type": "stream",
     "text": [
      "0.209554580493\n"
     ]
    },
    {
     "data": {
      "image/png": "[encoded data removed]",
      "text/plain": [
       "<matplotlib.figure.Figure at 0x1311d7c88>"
      ]
     },
     "metadata": {},
     "output_type": "display_data"
    }
   ],
   "source": [
    "# on récupéere le meilleur seuil pour avoir le meilleur prédicteur selon le critère du coefficient de Mattews\n",
    "thresholds = np.linspace(0.01, 0.99, 50)\n",
    "mcc = np.array([matthews_corrcoef(y, preds>thr) for thr in thresholds])\n",
    "plt.plot(thresholds, mcc)\n",
    "best_threshold = thresholds[mcc.argmax()]\n",
    "print(mcc.max())"
   ]
  },
  {
   "cell_type": "code",
   "execution_count": 155,
   "metadata": {
    "collapsed": false
   },
   "outputs": [],
   "source": [
    "# generate predictions at the chosen threshold\n",
    "preds = (clf.predict_proba(X_test[:,1:])[:,1] > best_threshold).astype(np.int8)"
   ]
  },
  {
   "cell_type": "code",
   "execution_count": 156,
   "metadata": {
    "collapsed": false
   },
   "outputs": [
    {
     "name": "stdout",
     "output_type": "stream",
     "text": [
      "ROC AUC: 0.61044\n"
     ]
    }
   ],
   "source": [
    "# Comparaison des predictions avec les vraies valeurs\n",
    "print(\"ROC AUC: {:.5f}\".format(roc_auc_score(y_test, preds)))"
   ]
  },
  {
   "cell_type": "code",
   "execution_count": 112,
   "metadata": {
    "collapsed": false
   },
   "outputs": [],
   "source": [
    "preds_proba=clf.predict_proba(X_test[:,1:])[:,1]"
   ]
  },
  {
   "cell_type": "code",
   "execution_count": 180,
   "metadata": {
    "collapsed": false
   },
   "outputs": [],
   "source": [
    "# Sortie afin de comparer avec quelques cotes (cf pdf):\n",
    "indices_echantillon_test=[int(x) for x in X_test[:,0]]\n",
    "fighter_adversaire=all_data[indices_echantillon_test][:,[0,31]]\n",
    "comparate_odds=np.hstack((fighter_adversaire,np.transpose(np.array([preds_proba])),np.transpose(np.array([1-preds_proba]))))"
   ]
  },
  {
   "cell_type": "code",
   "execution_count": 185,
   "metadata": {
    "collapsed": false
   },
   "outputs": [
    {
     "data": {
      "text/plain": [
       "array([['/fighter/Patrick-Cote-6612', '/fighter/Alan-Belcher-10967',\n",
       "        0.24770396947860718, 0.7522960305213928],\n",
       "       ['/fighter/Austin-Lyons-57168', '/fighter/Scott-OShaughnessy-45628',\n",
       "        0.3279820382595062, 0.6720179319381714],\n",
       "       ['/fighter/Alan-Belcher-10967', '/fighter/Michael-Bisping-10196',\n",
       "        0.45718440413475037, 0.5428155660629272],\n",
       "       ['/fighter/Motoshi-Miyaji-26269',\n",
       "        '/fighter/Masayoshi-Ichikawa-35604', 0.5688769817352295,\n",
       "        0.4311230182647705],\n",
       "       ['/fighter/Joe-Stevenson-65', '/fighter/Dokonjonosuke-Mishima-1170',\n",
       "        0.7213841080665588, 0.27861589193344116],\n",
       "       ['/fighter/Carlos-Condit-6765', '/fighter/Martin-Kampmann-5344',\n",
       "        0.44725894927978516, 0.5527410507202148],\n",
       "       ['/fighter/Quinn-Mulhern-22873', '/fighter/Rich-Clementi-1046',\n",
       "        0.8244392275810242, 0.17556077241897583],\n",
       "       ['/fighter/Damir-Mihajlovic-12397', '/fighter/Farbod-Fadami-20721',\n",
       "        0.35093244910240173, 0.6490675210952759],\n",
       "       ['/fighter/Akira-Okada-63782', '/fighter/Nobumitsu-Osawa-76953',\n",
       "        0.5389255285263062, 0.46107447147369385],\n",
       "       ['/fighter/Simon-Shirt-77285', '/fighter/Ryan-Rother-39642',\n",
       "        0.5664874911308289, 0.43351250886917114],\n",
       "       ['/fighter/Archie-Lowe-73968', '/fighter/Cory-Alexander-40691',\n",
       "        0.5640795826911926, 0.4359204173088074],\n",
       "       ['/fighter/Guilherme-Miranda-33765', '/fighter/Munil-Adriano-22924',\n",
       "        0.5997894406318665, 0.40021055936813354],\n",
       "       ['/fighter/Bubba-Jenkins-85196', '/fighter/LaRue-Burley-90879',\n",
       "        0.37546804547309875, 0.6245319843292236],\n",
       "       ['/fighter/John-Cronk-1713', '/fighter/Matt-Hughes-232',\n",
       "        0.42160695791244507, 0.5783930420875549],\n",
       "       ['/fighter/Marcin-Naruszczka-64742',\n",
       "        '/fighter/Borys-Mankowski-35714', 0.6405363082885742,\n",
       "        0.3594636917114258],\n",
       "       ['/fighter/DJ-Linderman-30279', '/fighter/Josh-Copeland-75537',\n",
       "        0.6040181517601013, 0.3959818482398987],\n",
       "       ['/fighter/Dia-Grant-53925', '/fighter/Neal-Anderson-40748',\n",
       "        0.5721437931060791, 0.4278562068939209],\n",
       "       ['/fighter/Reggie-Merriweather-79597', '/fighter/Rob-Hanna-37454',\n",
       "        0.6144132018089294, 0.38558679819107056],\n",
       "       ['/fighter/Dave-Beneteau-56', '/fighter/Dan-Bobish-174',\n",
       "        0.6368642449378967, 0.36313575506210327],\n",
       "       ['/fighter/Raymond-Jarman-15490', '/fighter/Tarec-Saffiedine-21912',\n",
       "        0.5282065272331238, 0.4717934727668762],\n",
       "       ['/fighter/John-Myers-18501', '/fighter/Bryon-McCroskey-58068',\n",
       "        0.4979782998561859, 0.5020216703414917],\n",
       "       ['/fighter/Alexandre-de-Freitas-9685',\n",
       "        '/fighter/Yoshiro-Maeda-6887', 0.5199963450431824,\n",
       "        0.4800036549568176],\n",
       "       ['/fighter/Igor-Soares-123075', '/fighter/Misael-Chamorro-98643',\n",
       "        0.5834448337554932, 0.41655516624450684],\n",
       "       ['/fighter/Brandon-Olsen-3998', '/fighter/Mac-Danzig-3396',\n",
       "        0.6641129851341248, 0.33588701486587524],\n",
       "       ['/fighter/Bryan-Robinson-5010', '/fighter/Travis-Fulton-80',\n",
       "        0.54366534948349, 0.45633465051651],\n",
       "       ['/fighter/Shinji-Sasaki-14367', '/fighter/Hiroshi-Shiba-12235',\n",
       "        0.7770593166351318, 0.22294068336486816],\n",
       "       ['/fighter/Kajan-Johnson-5615', '/fighter/Ryan-Machan-15299',\n",
       "        0.3025505244731903, 0.6974494457244873],\n",
       "       ['/fighter/Julian-Erosa-71442', '/fighter/Daniel-Swain-73000',\n",
       "        0.0211408119648695, 0.9788591861724854],\n",
       "       ['/fighter/Hikaru-Sato-1716', '/fighter/Daisuke-Nakamura-4910',\n",
       "        0.4209894835948944, 0.5790104866027832],\n",
       "       ['/fighter/Ken-Shamrock-4', '/fighter/Kazuyuki-Fujita-315',\n",
       "        0.44689637422561646, 0.5531036257743835],\n",
       "       ['/fighter/Deivid-Daniel-dos-Santos-48098',\n",
       "        '/fighter/Leonardo-Mafra-Texeira-76653', 0.5494298338890076,\n",
       "        0.45057016611099243],\n",
       "       ['/fighter/Victor-Hunsaker-333', '/fighter/Cleber-Luciano-824',\n",
       "        0.8416432738304138, 0.15835672616958618],\n",
       "       ['/fighter/Artur-Guseinov-14783', '/fighter/Luigi-Fioravanti-12199',\n",
       "        0.4972553253173828, 0.5027446746826172],\n",
       "       ['/fighter/Alan-Caster-Guedes-Araujo-31624',\n",
       "        '/fighter/Nilson-Fernandes-Pulgatti-2453', 0.23211809992790222,\n",
       "        0.7678818702697754],\n",
       "       ['/fighter/Raphael-Davis-17374', '/fighter/Mike-Martelle-17375',\n",
       "        0.5066052675247192, 0.49339473247528076],\n",
       "       ['/fighter/Tito-Ortiz-158', '/fighter/Ken-Shamrock-4',\n",
       "        0.3938961625099182, 0.6061038374900818],\n",
       "       ['/fighter/Hideo-Tokoro-2276', '/fighter/Erikas-Petraitis-7030',\n",
       "        0.6418696045875549, 0.35813039541244507],\n",
       "       ['/fighter/Erick-Carlos-Silva-50122',\n",
       "        '/fighter/Jeremias-Henrique-148677', 0.5679243206977844,\n",
       "        0.4320756793022156],\n",
       "       ['/fighter/Steve-Smith-27595', '/fighter/Bryan-Goldsby-20999',\n",
       "        0.4560970067977905, 0.5439029932022095],\n",
       "       ['/fighter/Handong-Kong-103811', '/fighter/Shungo-Oyama-335',\n",
       "        0.5373344421386719, 0.4626655578613281],\n",
       "       ['/fighter/Daiki-Gojima-81600', '/fighter/Nobuki-Fujii-69025',\n",
       "        0.3058205246925354, 0.6941794753074646],\n",
       "       ['/fighter/Rambaa-Somdet-3390', '/fighter/Takuya-Eizumi-31880',\n",
       "        0.4145735800266266, 0.5854264497756958],\n",
       "       ['/fighter/David-Rickels-36198', '/fighter/Levi-Avera-15414',\n",
       "        0.4818999171257019, 0.5181000828742981],\n",
       "       ['/fighter/Keigo-Hirayama-24876',\n",
       "        '/fighter/Shigenobu-Takahashi-47165', 0.5770556330680847,\n",
       "        0.4229443669319153],\n",
       "       ['/fighter/Tyler-Shinn-84707', '/fighter/Jeremiah-Castillo-43653',\n",
       "        0.5572879910469055, 0.4427120089530945],\n",
       "       ['/fighter/Jason-DeLucia-22', '/fighter/Takaku-Fuke-669',\n",
       "        0.44026196002960205, 0.559738039970398],\n",
       "       ['/fighter/Charon-Spain-57054', '/fighter/Roy-Bradshaw-50880',\n",
       "        0.6225889325141907, 0.3774110674858093],\n",
       "       ['/fighter/Kotetsu-Boku-1527', '/fighter/Yukio-Sakaguchi-22195',\n",
       "        0.1803949773311615, 0.8196049928665161],\n",
       "       ['/fighter/Daniel-Richardson-34006', '/fighter/Nick-Honstein-20637',\n",
       "        0.40823909640312195, 0.5917608737945557],\n",
       "       ['/fighter/Rob-Lisita-49684', '/fighter/Yeong-Gwang-Choi-15995',\n",
       "        0.48855313658714294, 0.5114468336105347],\n",
       "       ['/fighter/Kenta-Nakamura-13682', '/fighter/Soo-Chul-Kim-69076',\n",
       "        0.6282619833946228, 0.3717380166053772],\n",
       "       ['/fighter/Jeremiah-ONeal-2398', '/fighter/Kelly-Rundle-23256',\n",
       "        0.6566493511199951, 0.3433506488800049],\n",
       "       ['/fighter/Esteves-Jones-14954', '/fighter/Tony-Lopez-12519',\n",
       "        0.6447445750236511, 0.3552554249763489],\n",
       "       ['/fighter/Jesse-Veltri-74092', '/fighter/Garret-Nybakken-60752',\n",
       "        0.5678691864013672, 0.4321308135986328],\n",
       "       ['/fighter/John-Troyer-20019', '/fighter/Roger-Minton-III-41633',\n",
       "        0.5729829668998718, 0.4270170331001282],\n",
       "       ['/fighter/Daniel-James-147707', '/fighter/Aaron-Ware-64751',\n",
       "        0.7074681520462036, 0.2925318479537964],\n",
       "       ['/fighter/Tyson-Triplett-63093', '/fighter/John-Tarrh-7027',\n",
       "        0.4705793261528015, 0.5294206738471985],\n",
       "       ['/fighter/Nick-Cottone-12851', '/fighter/Louis-Gaudinot-45230',\n",
       "        0.4890003800392151, 0.5109996199607849],\n",
       "       ['/fighter/Christopher-Anthony-109383',\n",
       "        '/fighter/Jason-Norwood-31608', 0.16572020947933197,\n",
       "        0.8342797756195068],\n",
       "       ['/fighter/Anthony-Smith-29470', '/fighter/Josh-Neer-9179',\n",
       "        0.653763473033905, 0.34623652696609497],\n",
       "       ['/fighter/Wataru-Takahashi-8263',\n",
       "        '/fighter/Tomonari-Kanomata-5792', 0.6671510338783264,\n",
       "        0.3328489661216736],\n",
       "       ['/fighter/Marko-Drmonjic-25469', '/fighter/Antony-Rea-2484',\n",
       "        0.5126749277114868, 0.4873250722885132],\n",
       "       ['/fighter/Ikuhisa-Minowa-250', '/fighter/Ryuki-Ueyama-1479',\n",
       "        0.789330780506134, 0.21066921949386597],\n",
       "       ['/fighter/Belal-Muhammad-108315', '/fighter/Chris-Curtis-48039',\n",
       "        0.24563445150852203, 0.7543655633926392],\n",
       "       ['/fighter/Julian-Shore-67188', '/fighter/Frank-Watts-12916',\n",
       "        0.6216381788253784, 0.3783618211746216],\n",
       "       ['/fighter/Kleber-Ferreira-Braz-21862',\n",
       "        '/fighter/Rodrigo-Caporal-22923', 0.4367143213748932,\n",
       "        0.5632857084274292],\n",
       "       ['/fighter/Dominique-Robinson-14718', '/fighter/Carlo-Prater-6767',\n",
       "        0.34294065833091736, 0.6570593118667603],\n",
       "       ['/fighter/Kajan-Johnson-5615', '/fighter/Rory-MacDonald-14018',\n",
       "        0.5330296754837036, 0.4669703245162964],\n",
       "       ['/fighter/Josh-Grispi-20416', '/fighter/Andy-Ogle-42659',\n",
       "        0.5138468742370605, 0.48615312576293945],\n",
       "       ['/fighter/Amy-Cadwell-Montenegro-85014',\n",
       "        '/fighter/Jamie-Moyle-85597', 0.7035837173461914,\n",
       "        0.2964162826538086],\n",
       "       ['/fighter/Taylor-Solomon-53696', '/fighter/Jason-Fischer-85210',\n",
       "        0.5186470150947571, 0.4813529849052429],\n",
       "       ['/fighter/Mark-Cherico-56202', '/fighter/Nate-Landwehr-101493',\n",
       "        0.3746781051158905, 0.6253218650817871],\n",
       "       ['/fighter/Hiroyuki-Oshiro-108157', '/fighter/Satoshi-Inaba-24889',\n",
       "        0.5914168953895569, 0.4085831046104431],\n",
       "       ['/fighter/Drey-Mitchell-86786', '/fighter/Joe-Neal-93107',\n",
       "        0.6397613286972046, 0.3602386713027954],\n",
       "       ['/fighter/Bob-Schrijber-310', '/fighter/Wanderlei-Silva-209',\n",
       "        0.4135313034057617, 0.5864686965942383],\n",
       "       ['/fighter/Terry-Etim-13332', '/fighter/Sam-Stout-9901',\n",
       "        0.47888994216918945, 0.5211100578308105],\n",
       "       ['/fighter/Yoshiro-Maeda-6887', '/fighter/Daiki-Hata-12315',\n",
       "        0.4119710922241211, 0.5880289077758789],\n",
       "       ['/fighter/Tim-Kennedy-2830', '/fighter/Michael-Bisping-10196',\n",
       "        0.5413784384727478, 0.4586215615272522],\n",
       "       ['/fighter/Vince-Lucero-4009', '/fighter/Eddie-Sanchez-12098',\n",
       "        0.442996621131897, 0.557003378868103],\n",
       "       ['/fighter/Reggie-Parks-50391', '/fighter/Chris-Green-18475',\n",
       "        0.5946197509765625, 0.4053802490234375],\n",
       "       ['/fighter/Guilherme-Viana-93945', '/fighter/Rodney-Wallace-33343',\n",
       "        0.4776199758052826, 0.522379994392395],\n",
       "       ['/fighter/Darrill-Schoonover-33084', '/fighter/Paul-Buentello-347',\n",
       "        0.3345765769481659, 0.6654233932495117],\n",
       "       ['/fighter/Brian-Kelleher-53666', '/fighter/Claudio-Ledesma-61676',\n",
       "        0.5761492848396301, 0.4238507151603699],\n",
       "       ['/fighter/Nelson-Velasques-8082', '/fighter/Mauro-Chaulet-51804',\n",
       "        0.22200259566307068, 0.7779973745346069],\n",
       "       ['/fighter/Hisaki-Hiraishi-6652', '/fighter/Masakazu-Taguchi-17323',\n",
       "        0.4176778197288513, 0.5823221802711487],\n",
       "       ['/fighter/Richie-Whitson-22853', '/fighter/Travis-Marx-30475',\n",
       "        0.3021731376647949, 0.6978268623352051],\n",
       "       ['/fighter/Murad-Magomedov-50182', '/fighter/Pavel-Pokatilov-70889',\n",
       "        0.7451374530792236, 0.25486254692077637],\n",
       "       ['/fighter/Motonobu-Tezuka-19390', '/fighter/Hiroshi-Tomita-40212',\n",
       "        0.46332332491874695, 0.5366766452789307],\n",
       "       ['/fighter/Akihiro-Murayama-8745',\n",
       "        '/fighter/Yoshinori-Ashikawa-7134', 0.41006550192832947,\n",
       "        0.5899344682693481],\n",
       "       ['/fighter/Tamotsu-Kitada-19301', '/fighter/Akihiro-Ono-41780',\n",
       "        0.35211649537086487, 0.6478835344314575]], dtype=object)"
      ]
     },
     "execution_count": 185,
     "metadata": {},
     "output_type": "execute_result"
    }
   ],
   "source": [
    "comparate_odds[10:100]"
   ]
  },
  {
   "cell_type": "code",
   "execution_count": null,
   "metadata": {
    "collapsed": true
   },
   "outputs": [],
   "source": []
  }
 ],
 "metadata": {
  "anaconda-cloud": {},
  "kernelspec": {
   "display_name": "Python [default]",
   "language": "python",
   "name": "python3"
  },
  "language_info": {
   "codemirror_mode": {
    "name": "ipython",
    "version": 3
   },
   "file_extension": ".py",
   "mimetype": "text/x-python",
   "name": "python",
   "nbconvert_exporter": "python",
   "pygments_lexer": "ipython3",
   "version": "3.5.2"
  }
 },
 "nbformat": 4,
 "nbformat_minor": 0
}
