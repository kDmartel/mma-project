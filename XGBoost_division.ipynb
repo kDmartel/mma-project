{
 "cells": [
  {
   "cell_type": "code",
   "execution_count": 1,
   "metadata": {
    "collapsed": false
   },
   "outputs": [
    {
     "name": "stderr",
     "output_type": "stream",
     "text": [
      "/Users/k_martel/anaconda/lib/python3.5/site-packages/sklearn/cross_validation.py:44: DeprecationWarning: This module was deprecated in version 0.18 in favor of the model_selection module into which all the refactored classes and functions are moved. Also note that the interface of the new CV iterators are different from that of this module. This module will be removed in 0.20.\n",
      "  \"This module will be removed in 0.20.\", DeprecationWarning)\n"
     ]
    }
   ],
   "source": [
    "import numpy as np\n",
    "import pandas as pd\n",
    "from xgboost import XGBClassifier\n",
    "from sklearn.metrics import matthews_corrcoef, roc_auc_score\n",
    "from sklearn.cross_validation import cross_val_score, StratifiedKFold\n",
    "from sklearn.model_selection import train_test_split\n",
    "import matplotlib.pyplot as plt\n",
    "import seaborn as sns\n",
    "%matplotlib inline"
   ]
  },
  {
   "cell_type": "code",
   "execution_count": 2,
   "metadata": {
    "collapsed": false
   },
   "outputs": [],
   "source": [
    "######Importation des données##########\n",
    "\n",
    "X=pd.read_csv(\"stats_fight_mma_division.csv\",\n",
    "                   sep='\\t',index_col=0,header=None,usecols=[0,4,5,6,7,8,9,10,11,12,13,14,15,16,17,18,19,\n",
    "                                                            20,21,22,23,24,25,26,27,28,29],engine='python')\n",
    "\n",
    "\n",
    "y = pd.read_csv(\"stats_fight_mma_division.csv\", sep='\\t',header=None,engine='python',index_col=0, usecols=[0,30]).values.ravel()\n",
    "\n",
    "columns=[\"POIDS A\",\"TAILLE A\",\"ANNEE A\",\"EXPERIENCE A\",\"VICTOIRE A\",\"DEFAITE A\",\"KO A\",\n",
    "           \"SOUMISSION A\",\"STREAK A\",\"POIDS B\",\"TAILLE B\",\"ANNEE B\",\"EXPERIENCE B\",\"VICTOIRE B\",\"DEFAITE B\",\"KO B\",\n",
    "           \"SOUMISSION B\",\"STREAK B\",\"DIFF POIDS\",\"DIFF TAILLE\",\"DIFF AGE\",\"DIFF VICTOIRE\",\"DIFF DEFAITE\",\n",
    "           \"DIFF KO\",\"DIFF SOUMISSION\",\"DIFF STREAK\"]\n",
    "#transformation en matrice Numpy\n",
    "X = X.values\n",
    "\n",
    "X, X_test, y, y_test = train_test_split(X, y, test_size=0.33)"
   ]
  },
  {
   "cell_type": "code",
   "execution_count": 3,
   "metadata": {
    "collapsed": false
   },
   "outputs": [
    {
     "data": {
      "text/plain": [
       "XGBClassifier(base_score=0.005, colsample_bylevel=1, colsample_bytree=1,\n",
       "       gamma=0, learning_rate=0.1, max_delta_step=0, max_depth=3,\n",
       "       min_child_weight=1, missing=None, n_estimators=100, nthread=-1,\n",
       "       objective='binary:logistic', reg_alpha=0, reg_lambda=1,\n",
       "       scale_pos_weight=1, seed=0, silent=True, subsample=1)"
      ]
     },
     "execution_count": 3,
     "metadata": {},
     "output_type": "execute_result"
    }
   ],
   "source": [
    "#Utilisaton de la librairie XGBOOST et de son classifieur\n",
    "clf = XGBClassifier(base_score=0.005)\n",
    "clf.fit(X, y)"
   ]
  },
  {
   "cell_type": "code",
   "execution_count": 4,
   "metadata": {
    "collapsed": false
   },
   "outputs": [
    {
     "name": "stdout",
     "output_type": "stream",
     "text": [
      "[ 3  4  5  8  9 13 14 17 18 20 21 22]\n"
     ]
    },
    {
     "data": {
      "text/plain": [
       "(12,)"
      ]
     },
     "execution_count": 4,
     "metadata": {},
     "output_type": "execute_result"
    },
    {
     "data": {
      "image/png": "[encoded data removed]",
      "text/plain": [
       "<matplotlib.figure.Figure at 0x10f7dff28>"
      ]
     },
     "metadata": {},
     "output_type": "display_data"
    }
   ],
   "source": [
    "# Selection des bons features\n",
    "plt.hist(clf.feature_importances_[clf.feature_importances_>0])\n",
    "important_indices = np.where(clf.feature_importances_>0.005)[0]\n",
    "print(important_indices)\n",
    "important_indices.shape"
   ]
  },
  {
   "cell_type": "code",
   "execution_count": 5,
   "metadata": {
    "collapsed": false
   },
   "outputs": [
    {
     "data": {
      "text/plain": [
       "['EXPERIENCE A',\n",
       " 'VICTOIRE A',\n",
       " 'DEFAITE A',\n",
       " 'STREAK A',\n",
       " 'POIDS B',\n",
       " 'VICTOIRE B',\n",
       " 'DEFAITE B',\n",
       " 'STREAK B',\n",
       " 'DIFF POIDS',\n",
       " 'DIFF AGE',\n",
       " 'DIFF VICTOIRE',\n",
       " 'DIFF DEFAITE']"
      ]
     },
     "execution_count": 5,
     "metadata": {},
     "output_type": "execute_result"
    }
   ],
   "source": [
    "elements_retenu=[]\n",
    "for i in important_indices:\n",
    "    elements_retenu.append(columns[i])\n",
    "elements_retenu"
   ]
  },
  {
   "cell_type": "code",
   "execution_count": 6,
   "metadata": {
    "collapsed": false
   },
   "outputs": [
    {
     "name": "stdout",
     "output_type": "stream",
     "text": [
      "fold 0, ROC AUC: 0.65088\n",
      "fold 1, ROC AUC: 0.65150\n",
      "fold 2, ROC AUC: 0.65054\n",
      "0.65101248242\n"
     ]
    }
   ],
   "source": [
    "#Cross validation \n",
    "#en conservant 3 sous echantillons avec des fréquences de classes homogènes dans chacun des sous ensembles\n",
    "clf = XGBClassifier(max_depth=5, base_score=0.005)\n",
    "cv = StratifiedKFold(y, n_folds=3)\n",
    "preds = np.ones(y.shape[0])\n",
    "for i, (train, test) in enumerate(cv):\n",
    "    preds[test] = clf.fit(X[train], y[train]).predict_proba(X[test])[:,1]\n",
    "    print(\"fold {}, ROC AUC: {:.5f}\".format(i, roc_auc_score(y[test], preds[test])))\n",
    "print(roc_auc_score(y, preds))"
   ]
  },
  {
   "cell_type": "code",
   "execution_count": 7,
   "metadata": {
    "collapsed": false
   },
   "outputs": [
    {
     "name": "stderr",
     "output_type": "stream",
     "text": [
      "/Users/k_martel/anaconda/lib/python3.5/site-packages/sklearn/metrics/classification.py:516: RuntimeWarning: invalid value encountered in double_scalars\n",
      "  mcc = cov_ytyp / np.sqrt(var_yt * var_yp)\n"
     ]
    },
    {
     "name": "stdout",
     "output_type": "stream",
     "text": [
      "0.215687108492\n"
     ]
    },
    {
     "data": {
      "image/png": "[encoded data removed]",
      "text/plain": [
       "<matplotlib.figure.Figure at 0x1193e3400>"
      ]
     },
     "metadata": {},
     "output_type": "display_data"
    }
   ],
   "source": [
    "# on récupéere le meilleur seuil pour avoir le meilleur prédicteur selon le critère du coefficient de Mattews\n",
    "thresholds = np.linspace(0.01, 0.99, 50)\n",
    "mcc = np.array([matthews_corrcoef(y, preds>thr) for thr in thresholds])\n",
    "plt.plot(thresholds, mcc)\n",
    "best_threshold = thresholds[mcc.argmax()]\n",
    "print(mcc.max())"
   ]
  },
  {
   "cell_type": "code",
   "execution_count": 8,
   "metadata": {
    "collapsed": false
   },
   "outputs": [],
   "source": [
    "# generate predictions at the chosen threshold\n",
    "preds = (clf.predict_proba(X_test)[:,1] > best_threshold).astype(np.int8)"
   ]
  },
  {
   "cell_type": "code",
   "execution_count": 9,
   "metadata": {
    "collapsed": false
   },
   "outputs": [
    {
     "name": "stdout",
     "output_type": "stream",
     "text": [
      "ROC AUC: 0.60920\n"
     ]
    }
   ],
   "source": [
    "# Comparaison des predictions avec les vraies valeurs\n",
    "print(\"ROC AUC: {:.5f}\".format(roc_auc_score(y_test, preds)))"
   ]
  },
  {
   "cell_type": "code",
   "execution_count": null,
   "metadata": {
    "collapsed": true
   },
   "outputs": [],
   "source": []
  }
 ],
 "metadata": {
  "anaconda-cloud": {},
  "kernelspec": {
   "display_name": "Python [default]",
   "language": "python",
   "name": "python3"
  },
  "language_info": {
   "codemirror_mode": {
    "name": "ipython",
    "version": 3
   },
   "file_extension": ".py",
   "mimetype": "text/x-python",
   "name": "python",
   "nbconvert_exporter": "python",
   "pygments_lexer": "ipython3",
   "version": "3.5.2"
  }
 },
 "nbformat": 4,
 "nbformat_minor": 0
}
